{
 "cells": [
  {
   "cell_type": "markdown",
   "metadata": {},
   "source": [
    "Monte Carlo Value at Risk (VaR)"
   ]
  },
  {
   "cell_type": "code",
   "execution_count": 2,
   "metadata": {},
   "outputs": [],
   "source": [
    "#Libraries\n",
    "\n",
    "import numpy as np\n",
    "import pandas as pd\n",
    "import datetime as dt\n",
    "import yfinance as yf\n",
    "import matplotlib.pyplot as plt\n",
    "from scipy.stats import norm"
   ]
  },
  {
   "cell_type": "code",
   "execution_count": 3,
   "metadata": {},
   "outputs": [],
   "source": [
    "#Setting the historical time to extract data from\n",
    "years = 10\n",
    "end_date = dt.datetime.now()\n",
    "start_date = end_date - dt.timedelta(days = 365*years)\n"
   ]
  },
  {
   "cell_type": "code",
   "execution_count": 4,
   "metadata": {},
   "outputs": [],
   "source": [
    "#Setting Names of Specific Stocks\n",
    "st_ticks = [\"AAPL\" , \"NVDA\" , \"META\", \"AMZN\" , \"AMD\" , \"XOM\" , \"CVX\" , \"EOG\" , \"SHEL\" , \"DVN\", \"TSLA\", \"XPEV\" , \"NIO\" , \"RIVN\" , \"LCID\"]\n"
   ]
  },
  {
   "cell_type": "code",
   "execution_count": 5,
   "metadata": {},
   "outputs": [
    {
     "name": "stdout",
     "output_type": "stream",
     "text": [
      "[*********************100%%**********************]  1 of 1 completed\n",
      "[*********************100%%**********************]  1 of 1 completed\n",
      "[*********************100%%**********************]  1 of 1 completed\n",
      "[*********************100%%**********************]  1 of 1 completed\n",
      "[*********************100%%**********************]  1 of 1 completed\n",
      "[*********************100%%**********************]  1 of 1 completed\n",
      "[*********************100%%**********************]  1 of 1 completed\n",
      "[*********************100%%**********************]  1 of 1 completed\n",
      "[*********************100%%**********************]  1 of 1 completed\n",
      "[*********************100%%**********************]  1 of 1 completed\n",
      "[*********************100%%**********************]  1 of 1 completed\n",
      "[*********************100%%**********************]  1 of 1 completed\n",
      "[*********************100%%**********************]  1 of 1 completed\n",
      "[*********************100%%**********************]  1 of 1 completed\n",
      "[*********************100%%**********************]  1 of 1 completed\n",
      "                  AAPL        NVDA        META        AMZN         AMD  \\\n",
      "Date                                                                     \n",
      "2014-04-01   17.039057    4.418423   62.553627   17.149500    4.070000   \n",
      "2014-04-02   17.067375    4.389994   62.653526   17.098000    4.060000   \n",
      "2014-04-03   16.949091    4.437375   59.426949   16.681000    4.000000   \n",
      "2014-04-04   16.729822    4.299967   56.689850   16.150000    4.010000   \n",
      "2014-04-07   16.467154    4.314182   56.889641   15.888000    3.880000   \n",
      "...                ...         ...         ...         ...         ...   \n",
      "2024-03-22  172.279999  942.890015  509.579987  178.869995  179.649994   \n",
      "2024-03-25  170.850006  950.020020  503.019989  179.710007  178.630005   \n",
      "2024-03-26  169.710007  925.609985  495.890015  178.300003  177.869995   \n",
      "2024-03-27  173.309998  902.500000  493.859985  179.830002  179.589996   \n",
      "2024-03-28  171.479996  903.559998  485.579987  180.380005  180.490005   \n",
      "\n",
      "                   XOM         CVX         EOG       SHEL        DVN  \\\n",
      "Date                                                                   \n",
      "2014-04-01   63.426476   78.053162   76.149651  43.195286  48.055511   \n",
      "2014-04-02   63.569241   78.282722   76.249664  43.136307  48.204617   \n",
      "2014-04-03   63.556252   78.079376   77.434433  43.165806  48.644859   \n",
      "2014-04-04   63.186340   77.921982   76.757423  43.171700  48.289837   \n",
      "2014-04-07   62.809933   76.964340   75.341835  43.118607  47.963203   \n",
      "...                ...         ...         ...        ...        ...   \n",
      "2024-03-22  113.489998  154.660004  124.839996  66.919998  48.369999   \n",
      "2024-03-25  114.650002  156.470001  127.250000  67.419998  49.049999   \n",
      "2024-03-26  113.790001  155.270004  125.779999  66.760002  48.790001   \n",
      "2024-03-27  114.970001  156.350006  126.389999  66.760002  49.459999   \n",
      "2024-03-28  116.239998  157.740005  127.839996  67.040001  50.180000   \n",
      "\n",
      "                  TSLA  XPEV   NIO   RIVN  LCID  \n",
      "Date                                             \n",
      "2014-04-01   14.464667   NaN   NaN    NaN   NaN  \n",
      "2014-04-02   15.352667   NaN   NaN    NaN   NaN  \n",
      "2014-04-03   15.026667   NaN   NaN    NaN   NaN  \n",
      "2014-04-04   14.148667   NaN   NaN    NaN   NaN  \n",
      "2014-04-07   13.834667   NaN   NaN    NaN   NaN  \n",
      "...                ...   ...   ...    ...   ...  \n",
      "2024-03-22  170.830002  8.52  4.89  10.80  2.77  \n",
      "2024-03-25  172.630005  8.57  4.91  10.65  2.92  \n",
      "2024-03-26  177.669998  8.54  4.78  10.52  2.76  \n",
      "2024-03-27  179.830002  7.81  4.67  10.99  2.97  \n",
      "2024-03-28  175.789993  7.68  4.50  10.95  2.85  \n",
      "\n",
      "[2516 rows x 15 columns]\n"
     ]
    }
   ],
   "source": [
    "adj_close_df = pd.DataFrame()\n",
    "for st in st_ticks:\n",
    "    data = yf.download(st, start = start_date, end = end_date) \n",
    "    adj_close_df[st] = data[\"Adj Close\"]\n",
    "\n",
    "print(adj_close_df)"
   ]
  },
  {
   "cell_type": "code",
   "execution_count": 6,
   "metadata": {},
   "outputs": [
    {
     "name": "stdout",
     "output_type": "stream",
     "text": [
      "                AAPL      NVDA      META      AMZN       AMD       XOM  \\\n",
      "Date                                                                     \n",
      "2021-11-11 -0.000338  0.031114  0.000305 -0.002746  0.042962  0.001868   \n",
      "2021-11-12  0.014235  0.000000  0.039339  0.015048  0.012794 -0.007649   \n",
      "2021-11-15  0.000067 -0.012083  0.019377  0.005807 -0.009512  0.008581   \n",
      "2021-11-16  0.006645  0.005911 -0.013323 -0.001405  0.039879  0.010047   \n",
      "2021-11-17  0.016356 -0.031686 -0.006406  0.002341 -0.007308 -0.010980   \n",
      "...              ...       ...       ...       ...       ...       ...   \n",
      "2024-03-22  0.005296  0.030736  0.003578  0.004033  0.005414  0.000000   \n",
      "2024-03-25 -0.008335  0.007533 -0.012957  0.004685 -0.005694  0.010169   \n",
      "2024-03-26 -0.006695 -0.026030 -0.014276 -0.007877 -0.004264 -0.007529   \n",
      "2024-03-27  0.020991 -0.025284 -0.004102  0.008544  0.009624  0.010317   \n",
      "2024-03-28 -0.010615  0.001174 -0.016908  0.003054  0.004999  0.010986   \n",
      "\n",
      "                 CVX       EOG      SHEL       DVN      TSLA      XPEV  \\\n",
      "Date                                                                     \n",
      "2021-11-11  0.000088  0.006659 -0.004510  0.009171 -0.004166  0.070751   \n",
      "2021-11-12  0.000613 -0.000843 -0.001809 -0.003283 -0.028701  0.019770   \n",
      "2021-11-15  0.022420 -0.017443  0.024820  0.013993 -0.019573 -0.021452   \n",
      "2021-11-16  0.003930 -0.014047  0.006823  0.005773  0.039984  0.051293   \n",
      "2021-11-17 -0.004495 -0.020003 -0.005499 -0.026600  0.031984 -0.034591   \n",
      "...              ...       ...       ...       ...       ...       ...   \n",
      "2024-03-22 -0.001292 -0.009884  0.001047 -0.003302 -0.011582 -0.081125   \n",
      "2024-03-25  0.011635  0.019121  0.007444  0.013960  0.010482  0.005851   \n",
      "2024-03-26 -0.007699 -0.011619 -0.009838 -0.005315  0.028777 -0.003507   \n",
      "2024-03-27  0.006932  0.004838  0.000000  0.013639  0.012084 -0.089356   \n",
      "2024-03-28  0.008851  0.011407  0.004185  0.014452 -0.022722 -0.016785   \n",
      "\n",
      "                 NIO      RIVN      LCID  \n",
      "Date                                      \n",
      "2021-11-11  0.064855  0.199659  0.098762  \n",
      "2021-11-12  0.011076  0.055047 -0.023620  \n",
      "2021-11-15 -0.050467  0.139210  0.021395  \n",
      "2021-11-16  0.002462  0.141193  0.212751  \n",
      "2021-11-17 -0.024895 -0.163467 -0.054978  \n",
      "...              ...       ...       ...  \n",
      "2024-03-22 -0.022246 -0.033685 -0.031974  \n",
      "2024-03-25  0.004082 -0.013986  0.052736  \n",
      "2024-03-26 -0.026833 -0.012282 -0.056353  \n",
      "2024-03-27 -0.023282  0.043707  0.073331  \n",
      "2024-03-28 -0.037082 -0.003646 -0.041243  \n",
      "\n",
      "[597 rows x 15 columns]\n"
     ]
    }
   ],
   "source": [
    "log_returns = np.log(adj_close_df/adj_close_df.shift(1))\n",
    "log_returns = log_returns.dropna()\n",
    "\n",
    "print(log_returns)\n"
   ]
  },
  {
   "cell_type": "code",
   "execution_count": 7,
   "metadata": {},
   "outputs": [],
   "source": [
    "def expected_return(weights, log_returns):\n",
    "    return np.sum(log_returns.mean()*weights)\n",
    "    "
   ]
  },
  {
   "cell_type": "markdown",
   "metadata": {},
   "source": [
    "$$\\Large{Choelsky decomposition to obtain portfolio standard deviation}$$"
   ]
  },
  {
   "cell_type": "code",
   "execution_count": 8,
   "metadata": {},
   "outputs": [],
   "source": [
    "def std_dev(weights, cov_matrix):\n",
    "    vari = weights.T @ cov_matrix @ weights\n",
    "    return np.sqrt(vari)"
   ]
  },
  {
   "cell_type": "markdown",
   "metadata": {},
   "source": [
    "$$\\Large{CCreating a covariance matrix}$$"
   ]
  },
  {
   "cell_type": "code",
   "execution_count": 9,
   "metadata": {},
   "outputs": [],
   "source": [
    "cov_mat = log_returns.cov()\n"
   ]
  },
  {
   "cell_type": "code",
   "execution_count": 13,
   "metadata": {},
   "outputs": [],
   "source": [
    "portfolio_val = 500000\n",
    "weights = np.array([1/len(st_ticks)]*len(st_ticks))\n",
    "port_exp_return = expected_return(weights, log_returns)\n",
    "port_std = std_dev(weights, cov_mat)"
   ]
  },
  {
   "cell_type": "code",
   "execution_count": 14,
   "metadata": {},
   "outputs": [],
   "source": [
    "def r_zscore():\n",
    "    return np.random.normal(0,1)\n",
    "\n",
    "    "
   ]
  },
  {
   "cell_type": "markdown",
   "metadata": {},
   "source": [
    "##Function to Caluclate Secnaion Gain or Loss"
   ]
  },
  {
   "cell_type": "code",
   "execution_count": 24,
   "metadata": {},
   "outputs": [],
   "source": [
    "days = 5\n",
    "\n",
    "def scenario_gain_loss(portfolio_val, port_std, zscore, days):\n",
    "    return portfolio_val * port_exp_return * days + portfolio_val * port_std * zscore *np.sqrt(days)"
   ]
  },
  {
   "cell_type": "code",
   "execution_count": 25,
   "metadata": {},
   "outputs": [],
   "source": [
    "simu = 1000\n",
    "\n",
    "#Scenarion returns list\n",
    "s_return = []\n",
    "\n",
    "for i in range(simu):\n",
    "    zscore = r_zscore()\n",
    "    s_return.append(scenario_gain_loss(portfolio_val, port_std, zscore, days))"
   ]
  },
  {
   "cell_type": "code",
   "execution_count": 28,
   "metadata": {},
   "outputs": [
    {
     "name": "stdout",
     "output_type": "stream",
     "text": [
      "39881.114280813454\n"
     ]
    }
   ],
   "source": [
    "conf_int = 0.95\n",
    "VaR = -np.percentile(s_return, 100*(1- conf_int))\n",
    "print(VaR)"
   ]
  },
  {
   "cell_type": "markdown",
   "metadata": {},
   "source": [
    "##Plotting Results"
   ]
  },
  {
   "cell_type": "code",
   "execution_count": 33,
   "metadata": {},
   "outputs": [
    {
     "data": {
      "image/png": "[encoded data removed]",
      "text/plain": [
       "<Figure size 640x480 with 1 Axes>"
      ]
     },
     "metadata": {},
     "output_type": "display_data"
    }
   ],
   "source": [
    "plt.hist(s_return, bins = 50, density= True)\n",
    "plt.xlabel(\"Scenarion PnL($)\")\n",
    "plt.ylabel(\"Frequency\")\n",
    "plt.title(\"Distribution of Portfolio Gain/Loss Over 5 Days\")\n",
    "plt.axvline(-VaR, color = \"r\", linestyle = \"dashed\", linewidth = 2, label = f'VaR at {conf_int:.0%} confidence level')\n",
    "plt.legend()\n",
    "plt.show()\n"
   ]
  }
 ],
 "metadata": {
  "kernelspec": {
   "display_name": "Python 3",
   "language": "python",
   "name": "python3"
  },
  "language_info": {
   "codemirror_mode": {
    "name": "ipython",
    "version": 3
   },
   "file_extension": ".py",
   "mimetype": "text/x-python",
   "name": "python",
   "nbconvert_exporter": "python",
   "pygments_lexer": "ipython3",
   "version": "3.10.0"
  }
 },
 "nbformat": 4,
 "nbformat_minor": 2
}
